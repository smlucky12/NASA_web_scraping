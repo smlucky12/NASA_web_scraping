{
 "cells": [
  {
   "cell_type": "code",
   "execution_count": 22,
   "id": "92d666bb",
   "metadata": {},
   "outputs": [
    {
     "name": "stdout",
     "output_type": "stream",
     "text": [
      "Requirement already satisfied: folium in c:\\users\\lenovo\\appdata\\roaming\\python\\python310\\site-packages (0.14.0)\n",
      "Requirement already satisfied: jinja2>=2.9 in c:\\users\\lenovo\\anaconda3\\lib\\site-packages (from folium) (3.1.2)\n",
      "Requirement already satisfied: requests in c:\\users\\lenovo\\anaconda3\\lib\\site-packages (from folium) (2.28.1)\n",
      "Requirement already satisfied: branca>=0.6.0 in c:\\users\\lenovo\\appdata\\roaming\\python\\python310\\site-packages (from folium) (0.6.0)\n",
      "Requirement already satisfied: numpy in c:\\users\\lenovo\\anaconda3\\lib\\site-packages (from folium) (1.23.5)\n",
      "Requirement already satisfied: MarkupSafe>=2.0 in c:\\users\\lenovo\\anaconda3\\lib\\site-packages (from jinja2>=2.9->folium) (2.1.1)\n",
      "Requirement already satisfied: charset-normalizer<3,>=2 in c:\\users\\lenovo\\anaconda3\\lib\\site-packages (from requests->folium) (2.0.4)\n",
      "Requirement already satisfied: certifi>=2017.4.17 in c:\\users\\lenovo\\anaconda3\\lib\\site-packages (from requests->folium) (2022.12.7)\n",
      "Requirement already satisfied: idna<4,>=2.5 in c:\\users\\lenovo\\anaconda3\\lib\\site-packages (from requests->folium) (3.4)\n",
      "Requirement already satisfied: urllib3<1.27,>=1.21.1 in c:\\users\\lenovo\\anaconda3\\lib\\site-packages (from requests->folium) (1.26.14)\n",
      "Note: you may need to restart the kernel to use updated packages.\n"
     ]
    }
   ],
   "source": [
    "pip install folium"
   ]
  },
  {
   "cell_type": "code",
   "execution_count": 1,
   "id": "2ce23adc",
   "metadata": {},
   "outputs": [],
   "source": [
    "import folium"
   ]
  },
  {
   "cell_type": "code",
   "execution_count": 4,
   "id": "016d1cbd",
   "metadata": {},
   "outputs": [
    {
     "name": "stdout",
     "output_type": "stream",
     "text": [
      "Collecting folium\n",
      "  Using cached folium-0.14.0-py2.py3-none-any.whl (102 kB)\n",
      "Requirement already satisfied: requests in c:\\users\\lenovo\\anaconda3\\lib\\site-packages (from folium) (2.28.1)\n",
      "Requirement already satisfied: numpy in c:\\users\\lenovo\\anaconda3\\lib\\site-packages (from folium) (1.23.5)\n",
      "Requirement already satisfied: jinja2>=2.9 in c:\\users\\lenovo\\anaconda3\\lib\\site-packages (from folium) (3.1.2)\n",
      "Collecting branca>=0.6.0\n",
      "  Using cached branca-0.6.0-py3-none-any.whl (24 kB)\n",
      "Requirement already satisfied: MarkupSafe>=2.0 in c:\\users\\lenovo\\anaconda3\\lib\\site-packages (from jinja2>=2.9->folium) (2.1.1)\n",
      "Requirement already satisfied: charset-normalizer<3,>=2 in c:\\users\\lenovo\\anaconda3\\lib\\site-packages (from requests->folium) (2.0.4)\n",
      "Requirement already satisfied: idna<4,>=2.5 in c:\\users\\lenovo\\anaconda3\\lib\\site-packages (from requests->folium) (3.4)\n",
      "Requirement already satisfied: certifi>=2017.4.17 in c:\\users\\lenovo\\anaconda3\\lib\\site-packages (from requests->folium) (2022.12.7)\n",
      "Requirement already satisfied: urllib3<1.27,>=1.21.1 in c:\\users\\lenovo\\anaconda3\\lib\\site-packages (from requests->folium) (1.26.14)\n",
      "Installing collected packages: branca, folium\n",
      "Successfully installed branca-0.6.0 folium-0.14.0\n",
      "Note: you may need to restart the kernel to use updated packages.\n"
     ]
    }
   ],
   "source": [
    "pip install --user folium"
   ]
  },
  {
   "cell_type": "code",
   "execution_count": 6,
   "id": "c33acc63",
   "metadata": {},
   "outputs": [
    {
     "ename": "SyntaxError",
     "evalue": "invalid syntax (4275212916.py, line 1)",
     "output_type": "error",
     "traceback": [
      "\u001b[1;36m  Cell \u001b[1;32mIn[6], line 1\u001b[1;36m\u001b[0m\n\u001b[1;33m    pip install --user --upgrade pip\u001b[0m\n\u001b[1;37m        ^\u001b[0m\n\u001b[1;31mSyntaxError\u001b[0m\u001b[1;31m:\u001b[0m invalid syntax\n"
     ]
    }
   ],
   "source": [
    "pip install --user --upgrade pip\n",
    "pip install --user folium"
   ]
  },
  {
   "cell_type": "code",
   "execution_count": 1,
   "id": "9248dc7c",
   "metadata": {},
   "outputs": [
    {
     "name": "stdout",
     "output_type": "stream",
     "text": [
      "              ID                    TITULO DESCRIPCION  \\\n",
      "0     EONET_6368      Tropical Cyclone 03B         NaN   \n",
      "1     EONET_6368      Tropical Cyclone 03B         NaN   \n",
      "2     EONET_6368      Tropical Cyclone 03B         NaN   \n",
      "3     EONET_6368      Tropical Cyclone 03B         NaN   \n",
      "4     EONET_6368      Tropical Cyclone 03B         NaN   \n",
      "...          ...                       ...         ...   \n",
      "1313  EONET_2879              Iceberg D20A         NaN   \n",
      "1314  EONET_2879              Iceberg D20A         NaN   \n",
      "1315  EONET_2879              Iceberg D20A         NaN   \n",
      "1316  EONET_2997              Iceberg C21B         NaN   \n",
      "1317   EONET_980  Fuego Volcano, Guatemala         NaN   \n",
      "\n",
      "                                                 ENLACE  CATEGORIA_TITULO  \\\n",
      "0     https://eonet.gsfc.nasa.gov/api/v2.1/events/EO...     Severe Storms   \n",
      "1     https://eonet.gsfc.nasa.gov/api/v2.1/events/EO...     Severe Storms   \n",
      "2     https://eonet.gsfc.nasa.gov/api/v2.1/events/EO...     Severe Storms   \n",
      "3     https://eonet.gsfc.nasa.gov/api/v2.1/events/EO...     Severe Storms   \n",
      "4     https://eonet.gsfc.nasa.gov/api/v2.1/events/EO...     Severe Storms   \n",
      "...                                                 ...               ...   \n",
      "1313  https://eonet.gsfc.nasa.gov/api/v2.1/events/EO...  Sea and Lake Ice   \n",
      "1314  https://eonet.gsfc.nasa.gov/api/v2.1/events/EO...  Sea and Lake Ice   \n",
      "1315  https://eonet.gsfc.nasa.gov/api/v2.1/events/EO...  Sea and Lake Ice   \n",
      "1316  https://eonet.gsfc.nasa.gov/api/v2.1/events/EO...  Sea and Lake Ice   \n",
      "1317  https://eonet.gsfc.nasa.gov/api/v2.1/events/EO...         Volcanoes   \n",
      "\n",
      "      CATEGORIA_ID FUENTE_ID  \\\n",
      "0               10     GDACS   \n",
      "1               10     GDACS   \n",
      "2               10     GDACS   \n",
      "3               10     GDACS   \n",
      "4               10     GDACS   \n",
      "...            ...       ...   \n",
      "1313            15   BYU_ICE   \n",
      "1314            15   BYU_ICE   \n",
      "1315            15   BYU_ICE   \n",
      "1316            15   BYU_ICE   \n",
      "1317            12      CEMS   \n",
      "\n",
      "                                             FUENTE_URL       GEOMETRIA_FECHA  \\\n",
      "0     https://www.gdacs.org/Cyclones/report.aspx?eve...  2023-06-09T00:00:00Z   \n",
      "1     https://www.gdacs.org/Cyclones/report.aspx?eve...  2023-06-09T00:00:00Z   \n",
      "2     https://www.gdacs.org/Cyclones/report.aspx?eve...  2023-06-09T00:00:00Z   \n",
      "3     https://www.gdacs.org/Cyclones/report.aspx?eve...  2023-06-09T00:00:00Z   \n",
      "4     https://www.gdacs.org/Cyclones/report.aspx?eve...  2023-06-09T00:00:00Z   \n",
      "...                                                 ...                   ...   \n",
      "1313  http://www.scp.byu.edu/data/iceberg/ascat/d20a...  2011-08-30T00:00:00Z   \n",
      "1314  http://www.scp.byu.edu/data/iceberg/ascat/d20a...  2011-08-30T00:00:00Z   \n",
      "1315  http://www.scp.byu.edu/data/iceberg/ascat/d20a...  2011-08-30T00:00:00Z   \n",
      "1316  http://www.scp.byu.edu/data/iceberg/ascat/c21b...  2011-08-30T00:00:00Z   \n",
      "1317  http://emergency.copernicus.eu/mapping/list-of...  2002-01-04T00:00:00Z   \n",
      "\n",
      "     GEOMETRIA_TIPO  LATITUD  LONGITUD  \n",
      "0             Point  19.8000     91.30  \n",
      "1             Point  19.8000     91.50  \n",
      "2             Point  19.9000     91.70  \n",
      "3             Point  20.3000     91.80  \n",
      "4             Point  20.9000     91.90  \n",
      "...             ...      ...       ...  \n",
      "1313          Point -72.1100    -49.49  \n",
      "1314          Point -71.7100    -50.78  \n",
      "1315          Point -71.2200    -52.39  \n",
      "1316          Point -64.9955     96.18  \n",
      "1317          Point  14.4730    -90.88  \n",
      "\n",
      "[1318 rows x 12 columns]\n"
     ]
    }
   ],
   "source": [
    "import pandas as pd\n",
    "import folium\n",
    "\n",
    "# Leer los datos del archivo CSV\n",
    "datos = pd.read_csv(\"datoseventos.csv\")\n",
    "\n",
    "# Imprimir la tabla\n",
    "print(datos)\n",
    "\n",
    "# Crear un mapa\n",
    "mapa = folium.Map()\n",
    "\n",
    "# Agregar marcadores al mapa\n",
    "for index, row in datos.iterrows():\n",
    "    folium.Marker([row['LATITUD'], row['LONGITUD']], popup=row['TITULO']).add_to(mapa)\n",
    "\n",
    "# Mostrar el mapa\n",
    "mapa.save(\"mapa.html\")"
   ]
  },
  {
   "cell_type": "code",
   "execution_count": 2,
   "id": "7ea7e258",
   "metadata": {},
   "outputs": [],
   "source": [
    "import folium\n",
    "from folium.plugins import MarkerCluster, HeatMap\n",
    "\n",
    "# Crear el mapa\n",
    "mapa = folium.Map()\n",
    "\n",
    "# Crear el grupo de marcadores para la pestaña 1\n",
    "grupo_marcadores_1 = folium.FeatureGroup(name='Pestaña 1')\n",
    "\n",
    "# Agregar marcadores al grupo de marcadores 1\n",
    "grupo_marcadores_1.add_child(folium.Marker([40.7128, -74.0060], popup='Marcador 1'))\n",
    "grupo_marcadores_1.add_child(folium.Marker([34.0522, -118.2437], popup='Marcador 2'))\n",
    "\n",
    "# Crear el grupo de marcadores para la pestaña 2\n",
    "grupo_marcadores_2 = folium.FeatureGroup(name='Pestaña 2')\n",
    "\n",
    "# Agregar marcadores al grupo de marcadores 2\n",
    "grupo_marcadores_2.add_child(folium.Marker([51.5074, -0.1278], popup='Marcador 3'))\n",
    "grupo_marcadores_2.add_child(folium.Marker([48.8566, 2.3522], popup='Marcador 4'))\n",
    "\n",
    "# Agregar los grupos de marcadores al mapa\n",
    "mapa.add_child(grupo_marcadores_1)\n",
    "mapa.add_child(grupo_marcadores_2)\n",
    "\n",
    "# Crear el control de capas para las pestañas\n",
    "control_capas = folium.LayerControl()\n",
    "\n",
    "# Agregar el control de capas al mapa\n",
    "mapa.add_child(control_capas)\n",
    "\n",
    "# Guardar el mapa como archivo HTML\n",
    "mapa.save(\"mapa.html\")\n"
   ]
  }
 ],
 "metadata": {
  "kernelspec": {
   "display_name": "Python 3 (ipykernel)",
   "language": "python",
   "name": "python3"
  },
  "language_info": {
   "codemirror_mode": {
    "name": "ipython",
    "version": 3
   },
   "file_extension": ".py",
   "mimetype": "text/x-python",
   "name": "python",
   "nbconvert_exporter": "python",
   "pygments_lexer": "ipython3",
   "version": "3.10.9"
  }
 },
 "nbformat": 4,
 "nbformat_minor": 5
}
