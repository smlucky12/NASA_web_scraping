{
 "cells": [
  {
   "cell_type": "code",
   "execution_count": 4,
   "id": "9d85ebc5",
   "metadata": {},
   "outputs": [],
   "source": [
    "import pandas as pd\n",
    "import numpy as np\n",
    "import matplotlib.pyplot as ptl\n",
    "import seaborn as sns\n",
    "from urllib.request import urlopen\n",
    "from bs4 import BeautifulSoup as soup\n",
    "import requests\n",
    "import json"
   ]
  },
  {
   "cell_type": "code",
   "execution_count": 2,
   "id": "287230df",
   "metadata": {},
   "outputs": [
    {
     "name": "stdout",
     "output_type": "stream",
     "text": [
      "{'date': '2023-06-13', 'explanation': \"Jupiter's moons circle Jupiter. The featured video depicts Europa and Io, two of Jupiter's largest moons, crossing in front of the grand planet's Great Red Spot, the largest known storm system in our Solar System. The video was composed from images taken by the robotic Cassini spacecraft as it passed Jupiter in 2000, on its way to Saturn. The two moons visible are volcanic Io, in the distance, and icy Europa.  In the time-lapse video, Europa appears to overtake Io, which is odd because Io is closer to Jupiter and moves faster. The explanation is that the motion of the fast Cassini spacecraft changes the camera location significantly during imaging.  Jupiter is currently being visited by NASA's robotic Juno spacecraft, while ESA's Jupiter Icy Moons Explorer (JUICE), launched in April, is enroute.\", 'media_type': 'video', 'service_version': 'v1', 'title': 'Moons Across Jupiter', 'url': 'https://www.youtube.com/embed/YEXuGgRCyS0?rel=0'}\n"
     ]
    }
   ],
   "source": [
    "response = requests.get('https://api.nasa.gov/planetary/apod?api_key=2AxvQNHCDvyUedHwlhZg5bzViaLRWoz9qpOclGeI')\n",
    "\n",
    "# Verifica el estado de la respuesta\n",
    "if response.status_code == 200: #El código de estado HTTP 200 significa que la solicitud a la API fue exitosa. \n",
    "    data = response.json()  # Convierte la respuesta JSON en un objeto Python\n",
    "    print(data)\n",
    "else:\n",
    "    print('Error al descargar los datos:', response.status_code)\n",
    "\n"
   ]
  }
 ],
 "metadata": {
  "kernelspec": {
   "display_name": "Python 3 (ipykernel)",
   "language": "python",
   "name": "python3"
  },
  "language_info": {
   "codemirror_mode": {
    "name": "ipython",
    "version": 3
   },
   "file_extension": ".py",
   "mimetype": "text/x-python",
   "name": "python",
   "nbconvert_exporter": "python",
   "pygments_lexer": "ipython3",
   "version": "3.10.9"
  }
 },
 "nbformat": 4,
 "nbformat_minor": 5
}
