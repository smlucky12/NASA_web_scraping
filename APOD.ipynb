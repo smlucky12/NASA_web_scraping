{
 "cells": [
  {
   "cell_type": "markdown",
   "id": "9e3cad15",
   "metadata": {},
   "source": [
    "# <center> APOD <center>\n",
    "    \n",
    "- Uno de los sitios web más populares de la NASA es la [imagen astronómica del día](https://apod.nasa.gov/apod/astropix.html) . De hecho, este sitio web es uno de los sitios web más populares en todas las agencias federales. Tiene el atractivo popular de un video de Justin Bieber. Este punto final estructura las imágenes APOD y los metadatos asociados para que puedan reutilizarse para otras aplicaciones. Además, si el concept_tagsparámetro se establece en True, se devuelven palabras clave derivadas de la explicación de la imagen. Estas palabras clave podrían usarse como hashtags generados automáticamente para las fuentes de Twitter o Instagram; pero generalmente ayuda con la capacidad de descubrimiento de imágenes relevantes."
   ]
  },
  {
   "cell_type": "markdown",
   "id": "9def4bd8",
   "metadata": {},
   "source": [
    "- Aqui veremos una descripcion de los parametros para poder ontener nuestros datos de la api.\n",
    "\n",
    "|<center> **Parámetro** <center>| <center> **Tipo**<center> | <center>**Por defecto** <center>|<center> **Descripción** <center>|\n",
    "|----------|----------|----------|----------|\n",
    "| date  | YYYY-MM-DD  | El día de hoy | La fecha de la imagen del APOD para recuperar, por defecto es el del dia de hoy  |\n",
    "| start_date  | YYYY-MM-DD  | ninguno  | El inicio de un intervalo de fechas, que se quiere solicitar. No se puede usar con \"date\"|\n",
    "| end_date | YYYY-MM-DD  | El día de hoy  | El final del rango de fechas que se quiere solicitar, cuando se usa con el anterior parametro  |\n",
    "| count  | int  | ninguno  | Al usar este parametro devolvera imagenes al azar. No se puede usar junto a los parametros anteriores  |\n",
    "| thumbs  | bool  | False  | Devuelve la URL de la miniatura del video. Si no fuera un video el parametro es ignorado  |\n",
    "| api_key | string  | DEMO_CLAVE  | La clave es la que te envian al correo despues de registrarte  |\n",
    "    \n",
    "- Ahora mostraremos los campos que se pueden tener nuestra api\n",
    "\n",
    "|<center> **Parámetro** <center>| <center> **Tipo**<center> |<center> **Descripción** <center>|\n",
    "|----------|----------|----------|\n",
    "| date  | YYYY-MM-DD  | La fecha de la imagen del APOD. |\n",
    "| explanation  | string | Peuqeño texto que explica la imagen. |\n",
    "| hdurl | link  | La url de la imagen, devuelto independientemente de la configuración del parametro hd se omitira si no existe. |\n",
    "| media_type  |  image or video  | Nos indica el tipo de datos de dato pude ser imagen o video |\n",
    "| service_version  | v1 u otros | Se utiliza para especificar la versión de la API que deseas utilizar. |\n",
    "| title | string  | El titulo de la fecha. |\n",
    "| url | link  | La url de la imagen o video. |"
   ]
  },
  {
   "cell_type": "markdown",
   "id": "0b30032a",
   "metadata": {},
   "source": [
    "- Otro punto importante a mensionar es que al extraer los datos tendran el formato de json.\n",
    "\n",
    "\n",
    "- Ahora mostraremos como podemos extraer estos los datos de nuestra api"
   ]
  },
  {
   "cell_type": "code",
   "execution_count": 11,
   "id": "9d85ebc5",
   "metadata": {},
   "outputs": [],
   "source": [
    "import requests\n",
    "\n",
    "# Define la URL base de la API y tu clave de API\n",
    "base_url = \"https://api.nasa.gov/planetary/apod\"\n",
    "api_key = \"2AxvQNHCDvyUedHwlhZg5bzViaLRWoz9qpOclGeI\"\n",
    "\n",
    "# Realiza la solicitud HTTP GET\n",
    "response = requests.get(f\"{base_url}?api_key={api_key}\")\n",
    "\n",
    "# Verifica si la solicitud fue exitosa\n",
    "if response.status_code == 200:\n",
    "    # La solicitud fue exitosa, extrae los datos\n",
    "    data = response.json()\n",
    "    # Accede a los campos que necesites\n",
    "    title = data[\"title\"]\n",
    "    explanation = data[\"explanation\"]\n",
    "    url = data[\"url\"]\n",
    "    hd_url = data[\"hdurl\"]\n",
    "    # Haz lo que necesites con los datos\n",
    "else:\n",
    "    # La solicitud falló, maneja el error apropiadamente\n",
    "    print(\"Error al hacer la solicitud:\", response.status_code)\n"
   ]
  },
  {
   "cell_type": "code",
   "execution_count": null,
   "id": "287230df",
   "metadata": {},
   "outputs": [],
   "source": []
  },
  {
   "cell_type": "code",
   "execution_count": null,
   "id": "054d0689",
   "metadata": {},
   "outputs": [],
   "source": []
  },
  {
   "cell_type": "code",
   "execution_count": null,
   "id": "fe47284e",
   "metadata": {},
   "outputs": [],
   "source": []
  }
 ],
 "metadata": {
  "kernelspec": {
   "display_name": "Python 3 (ipykernel)",
   "language": "python",
   "name": "python3"
  },
  "language_info": {
   "codemirror_mode": {
    "name": "ipython",
    "version": 3
   },
   "file_extension": ".py",
   "mimetype": "text/x-python",
   "name": "python",
   "nbconvert_exporter": "python",
   "pygments_lexer": "ipython3",
   "version": "3.10.9"
  }
 },
 "nbformat": 4,
 "nbformat_minor": 5
}
