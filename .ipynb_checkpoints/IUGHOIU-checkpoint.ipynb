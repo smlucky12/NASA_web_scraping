{
 "cells": [
  {
   "cell_type": "code",
   "execution_count": null,
   "id": "db17cb1c",
   "metadata": {},
   "outputs": [],
   "source": [
    "url=\"https://api.nasa.gov/\"\n",
    "uclient=urlopen(url)\n",
    "responsehtml=uclient.read()\n",
    "uclient.close()\n",
    "print(responsehtml.decode())\n",
    "type(responsehtml.decode())"
   ]
  },
  {
   "cell_type": "code",
   "execution_count": null,
   "id": "5dade74a",
   "metadata": {},
   "outputs": [],
   "source": [
    "import pandas as pd\n",
    "import numpy as np\n",
    "import matplotlib.pyplot as ptl\n",
    "import seaborn as sns\n",
    "from urllib.request import urlopen\n",
    "from bs4 import BeautifulSoup as soup\n",
    "import requests\n",
    "import json"
   ]
  },
  {
   "cell_type": "code",
   "execution_count": null,
   "id": "72e9a708",
   "metadata": {},
   "outputs": [],
   "source": [
    "url=\"https://eonet.gsfc.nasa.gov/api/v2.1/events\"\n",
    "uclient=urlopen(url)\n",
    "responsehtml=uclient.read()\n",
    "uclient.close()\n",
    "print(responsehtml.decode())\n",
    "type(responsehtml.decode())"
   ]
  }
 ],
 "metadata": {
  "kernelspec": {
   "display_name": "Python 3 (ipykernel)",
   "language": "python",
   "name": "python3"
  },
  "language_info": {
   "codemirror_mode": {
    "name": "ipython",
    "version": 3
   },
   "file_extension": ".py",
   "mimetype": "text/x-python",
   "name": "python",
   "nbconvert_exporter": "python",
   "pygments_lexer": "ipython3",
   "version": "3.10.9"
  }
 },
 "nbformat": 4,
 "nbformat_minor": 5
}
