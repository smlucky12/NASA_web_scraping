{
 "cells": [
  {
   "cell_type": "markdown",
   "id": "9e3cad15",
   "metadata": {},
   "source": [
    "# <center> APOD <center>\n",
    "    \n",
    "- Uno de los sitios web más populares de la NASA es la [imagen astronómica del día](https://apod.nasa.gov/apod/astropix.html) . De hecho, este sitio web es uno de los sitios web más populares en todas las agencias federales. Tiene el atractivo popular de un video de Justin Bieber. Este punto final estructura las imágenes APOD y los metadatos asociados para que puedan reutilizarse para otras aplicaciones. Además, si el concept_tagsparámetro se establece en True, se devuelven palabras clave derivadas de la explicación de la imagen. Estas palabras clave podrían usarse como hashtags generados automáticamente para las fuentes de Twitter o Instagram; pero generalmente ayuda con la capacidad de descubrimiento de imágenes relevantes.\n"
   ]
  },
  {
   "cell_type": "markdown",
   "id": "9def4bd8",
   "metadata": {},
   "source": [
    "- \n",
    "\n",
    "| Título 1 | Título 2 |\n",
    "|----------|----------|\n",
    "| Celda 1  | Celda 2  |\n",
    "| Celda 3  | Celda 4  |\n"
   ]
  },
  {
   "cell_type": "code",
   "execution_count": 11,
   "id": "9d85ebc5",
   "metadata": {},
   "outputs": [],
   "source": [
    "import pandas as pd\n",
    "import numpy as np\n",
    "import matplotlib.pyplot as ptl\n",
    "import seaborn as sns\n",
    "from urllib.request import urlopen\n",
    "from bs4 import BeautifulSoup as soup\n",
    "import requests\n",
    "import json"
   ]
  },
  {
   "cell_type": "code",
   "execution_count": 21,
   "id": "287230df",
   "metadata": {},
   "outputs": [
    {
     "name": "stdout",
     "output_type": "stream",
     "text": [
      "                 copyright        date  \\\n",
      "0           Babak Tafreshi  2015-12-26   \n",
      "1  Juan Luis Cánovas Pérez  2022-02-03   \n",
      "2       \\nRobert Gendler\\n  2003-09-24   \n",
      "3                      NaN  2013-03-23   \n",
      "4                      NaN  2023-06-06   \n",
      "5                      NaN  1995-11-18   \n",
      "6                      NaN  2015-09-25   \n",
      "7                      NaN  1998-03-20   \n",
      "8                      NaN  1996-12-06   \n",
      "9             CHART32 Team  2021-07-22   \n",
      "\n",
      "                                         explanation  \\\n",
      "0  The Henbury craters in the Northern Territory,...   \n",
      "1  ven though Venus (left) was the brightest plan...   \n",
      "2  The small constellation Triangulum in the nort...   \n",
      "3  Cosmic dust clouds ripple across this infrared...   \n",
      "4  It’s the end of a world as we know it. Specifi...   \n",
      "5                                                      \n",
      "6  A mountainous region informally known as Tarta...   \n",
      "7  No, it's not breakfast ... but looking down fr...   \n",
      "8  This huge ball of stars predates our Sun.\\r Lo...   \n",
      "9  Point your telescope toward the high flying co...   \n",
      "\n",
      "                                               hdurl media_type  \\\n",
      "0  https://apod.nasa.gov/apod/image/1512/CratersG...      image   \n",
      "1  https://apod.nasa.gov/apod/image/2202/VenusMoo...      image   \n",
      "2  https://apod.nasa.gov/apod/image/0309/M33color...      image   \n",
      "3  https://apod.nasa.gov/apod/image/1303/PIA15254...      image   \n",
      "4                                                NaN      video   \n",
      "5  https://apod.nasa.gov/apod/image/sea_ice_sts45...      image   \n",
      "6  https://apod.nasa.gov/apod/image/1509/PlutoSna...      image   \n",
      "7  https://apod.nasa.gov/apod/image/9803/marswaff...      image   \n",
      "8  https://apod.nasa.gov/apod/image/9612/m3_cfa_b...      image   \n",
      "9  https://apod.nasa.gov/apod/image/2107/NGC7814w...      image   \n",
      "\n",
      "  service_version                                            title  \\\n",
      "0              v1                    Southern Craters and Galaxies   \n",
      "1              v1                             Embraced by Sunlight   \n",
      "2              v1                 M33: Spiral Galaxy in Triangulum   \n",
      "3              v1  Infrared Portrait of the Large Magellanic Cloud   \n",
      "4              v1                                 Star Eats Planet   \n",
      "5              v1                                      Water World   \n",
      "6              v1                        Pluto's Snakeskin Terrain   \n",
      "7              v1                 Mars: Ridges Near The South Pole   \n",
      "8              v1     Globular Cluster M3\\r\\nCredit and Copyright:   \n",
      "9              v1         NGC 7814: Little Sombrero with Supernova   \n",
      "\n",
      "                                                 url  \n",
      "0  https://apod.nasa.gov/apod/image/1512/CratersG...  \n",
      "1  https://apod.nasa.gov/apod/image/2202/VenusMoo...  \n",
      "2  https://apod.nasa.gov/apod/image/0309/M33color...  \n",
      "3  https://apod.nasa.gov/apod/image/1303/PIA15254...  \n",
      "4    https://www.youtube.com/embed/SmuG7odUe9c?rel=0  \n",
      "5  https://apod.nasa.gov/apod/image/sea_ice_sts45...  \n",
      "6  https://apod.nasa.gov/apod/image/1509/PlutoSna...  \n",
      "7  https://apod.nasa.gov/apod/image/9803/marswaff...  \n",
      "8   https://apod.nasa.gov/apod/image/9612/m3_cfa.gif  \n",
      "9  https://apod.nasa.gov/apod/image/2107/NGC7814w...  \n"
     ]
    }
   ],
   "source": [
    "response = requests.get('https://api.nasa.gov/planetary/apod?api_key=2AxvQNHCDvyUedHwlhZg5bzViaLRWoz9qpOclGeI&count=10')\n",
    "\n",
    "# Verifica el estado de la respuesta\n",
    "if response.status_code == 200: #El código de estado HTTP 200 significa que la solicitud a la API fue exitosa. \n",
    "    data = response.json()  # Convierte la respuesta JSON en un objeto Python\n",
    "else:\n",
    "    print('Error al descargar los datos:', response.status_code)\n",
    "\n",
    "tabla = pd.DataFrame(data)\n",
    "print(tabla)"
   ]
  },
  {
   "cell_type": "code",
   "execution_count": null,
   "id": "054d0689",
   "metadata": {},
   "outputs": [],
   "source": []
  },
  {
   "cell_type": "code",
   "execution_count": null,
   "id": "fe47284e",
   "metadata": {},
   "outputs": [],
   "source": []
  }
 ],
 "metadata": {
  "kernelspec": {
   "display_name": "Python 3 (ipykernel)",
   "language": "python",
   "name": "python3"
  },
  "language_info": {
   "codemirror_mode": {
    "name": "ipython",
    "version": 3
   },
   "file_extension": ".py",
   "mimetype": "text/x-python",
   "name": "python",
   "nbconvert_exporter": "python",
   "pygments_lexer": "ipython3",
   "version": "3.10.9"
  }
 },
 "nbformat": 4,
 "nbformat_minor": 5
}
